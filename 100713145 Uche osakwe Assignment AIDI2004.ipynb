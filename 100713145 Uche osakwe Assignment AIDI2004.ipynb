{
 "cells": [
  {
   "cell_type": "markdown",
   "metadata": {},
   "source": [
    "# This program computes basic BODMAS operations with two variables"
   ]
  },
  {
   "cell_type": "code",
   "execution_count": 3,
   "metadata": {},
   "outputs": [],
   "source": [
    "def BODMAS():\n",
    "    num1 = int(input(\"Enter First Number: \"))\n",
    "    num2 = int(input(\"Enter Second Number: \"))\n",
    "    print(\"Enter the desired operation you like to perform\")\n",
    "    symbol = input(\"Enter one of these symbols for an operation +,-,*,/: \")\n",
    "    \n",
    "    result = ()\n",
    "\n",
    "    if symbol == '+':\n",
    "        result = num1 + num2\n",
    "\n",
    "    elif symbol == '-':\n",
    "        result == num1 - num2\n",
    "\n",
    "    elif symbol == '*':\n",
    "        result = num1 * num2\n",
    "\n",
    "    elif symbol == '/':\n",
    "        result = num1 / num2\n",
    "\n",
    "    else:\n",
    "        print(\"cant recognize this input. try again \")\n",
    "\n",
    "    print(num1, symbol, num2, \":\", result)\n"
   ]
  },
  {
   "cell_type": "code",
   "execution_count": 2,
   "metadata": {},
   "outputs": [
    {
     "name": "stdout",
     "output_type": "stream",
     "text": [
      "Enter First Number: 4\n",
      "Enter Second Number: 5\n",
      "Enter the desired operation you like to perform\n",
      "Enter one of these symbols for an operation +,-,*,/: *\n",
      "4 * 5 : 20\n"
     ]
    }
   ],
   "source": [
    "BODMAS()"
   ]
  },
  {
   "cell_type": "code",
   "execution_count": null,
   "metadata": {},
   "outputs": [],
   "source": []
  }
 ],
 "metadata": {
  "kernelspec": {
   "display_name": "Python 3",
   "language": "python",
   "name": "python3"
  },
  "language_info": {
   "codemirror_mode": {
    "name": "ipython",
    "version": 3
   },
   "file_extension": ".py",
   "mimetype": "text/x-python",
   "name": "python",
   "nbconvert_exporter": "python",
   "pygments_lexer": "ipython3",
   "version": "3.7.3"
  }
 },
 "nbformat": 4,
 "nbformat_minor": 2
}
